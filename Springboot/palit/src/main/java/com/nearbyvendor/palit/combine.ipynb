{
 "cells": [
  {
   "cell_type": "code",
   "execution_count": 4,
   "metadata": {},
   "outputs": [
    {
     "name": "stdout",
     "output_type": "stream",
     "text": [
      "Java files combined into combined_java_files.txt.\n"
     ]
    }
   ],
   "source": [
    "import os\n",
    "\n",
    "def combine_java_files(folders, output_file):\n",
    "    with open(output_file, 'w') as outfile:\n",
    "        for folder in folders:\n",
    "            for filename in os.listdir(folder):\n",
    "                if filename.endswith('.java'):\n",
    "                    outfile.write(f'\\n{filename}:\\n```\\n')\n",
    "                    with open(os.path.join(folder, filename), 'r') as infile:\n",
    "                        outfile.write(infile.read())\n",
    "                    outfile.write('\\n```\\n')\n",
    "\n",
    "if __name__ == \"__main__\":\n",
    "    selected_folders = input(\"Enter the folder names, separated by commas: \").split(',')\n",
    "    selected_folders = [folder.strip() for folder in selected_folders]\n",
    "    output_file = \"combined_java_files.txt\"\n",
    "\n",
    "    combine_java_files(selected_folders, output_file)\n",
    "    print(f\"Java files combined into {output_file}.\")\n"
   ]
  },
  {
   "cell_type": "code",
   "execution_count": 2,
   "metadata": {},
   "outputs": [
    {
     "name": "stdout",
     "output_type": "stream",
     "text": [
      "d:\\Users\\Mark\\Documents\\GitHub\\react-projects\\Palit-A-Nearby-Vendor-Commerce-App\\Springboot\\palit\\src\\main\\java\\com\\nearbyvendor\n"
     ]
    }
   ],
   "source": [
    "import os\n",
    "print(os.getcwd())\n"
   ]
  }
 ],
 "metadata": {
  "kernelspec": {
   "display_name": "base",
   "language": "python",
   "name": "python3"
  },
  "language_info": {
   "codemirror_mode": {
    "name": "ipython",
    "version": 3
   },
   "file_extension": ".py",
   "mimetype": "text/x-python",
   "name": "python",
   "nbconvert_exporter": "python",
   "pygments_lexer": "ipython3",
   "version": "3.11.5"
  }
 },
 "nbformat": 4,
 "nbformat_minor": 2
}
