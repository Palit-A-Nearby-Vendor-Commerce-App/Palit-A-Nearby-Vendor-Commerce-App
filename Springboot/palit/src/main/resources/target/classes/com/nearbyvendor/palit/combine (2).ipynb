{
 "cells": [
  {
   "cell_type": "code",
   "execution_count": 10,
   "metadata": {},
   "outputs": [
    {
     "name": "stdout",
     "output_type": "stream",
     "text": [
      "Java files combined into combined_java_files.txt.\n"
     ]
    }
   ],
   "source": [
    "import os\n",
    "\n",
    "def print_directory_structure(root_dir, prefix=\"\", outfile=None):\n",
    "    \"\"\"Recursively prints the directory structure.\"\"\"\n",
    "    files = []\n",
    "    if os.path.isdir(root_dir):\n",
    "        try:\n",
    "            files = os.listdir(root_dir)\n",
    "        except PermissionError:\n",
    "            pass  # Ignore directories for which the user has no access rights\n",
    "\n",
    "    for i, item in enumerate(sorted(files)):\n",
    "        path = os.path.join(root_dir, item)\n",
    "        is_last = i == (len(files) - 1)\n",
    "        if os.path.isdir(path):\n",
    "            # It's a directory, print its name and explore recursively\n",
    "            new_prefix = prefix + (\"|-- \" if not is_last else \"`-- \")\n",
    "            print(f\"{prefix}|-- {item}\", file=outfile)\n",
    "            print_directory_structure(path, prefix=new_prefix, outfile=outfile)\n",
    "        elif item.endswith('.java'):\n",
    "            # It's a Java file, print its name\n",
    "            print(f\"{prefix}{'|-- ' if not is_last else '`-- '}{item}\", file=outfile)\n",
    "\n",
    "def combine_java_files(folders, output_file):\n",
    "    with open(output_file, 'w') as outfile:\n",
    "        # Print the directory structure\n",
    "        for folder in folders:\n",
    "            print(f\"{folder}\", file=outfile)\n",
    "            print_directory_structure(folder, outfile=outfile)\n",
    "            outfile.write(\"\\n\")\n",
    "\n",
    "        # Write the content of Java files\n",
    "        for folder in folders:\n",
    "            for item in os.listdir(folder):\n",
    "                if item.endswith('.java') and os.path.isfile(os.path.join(folder, item)):\n",
    "                    filepath = os.path.join(folder, item)\n",
    "                    outfile.write(f'\\n{filepath}:\\n```\\n')  # Include the full file path\n",
    "                    with open(filepath, 'r') as infile:\n",
    "                        outfile.write(infile.read())\n",
    "                    outfile.write('\\n```\\n')\n",
    "\n",
    "if __name__ == \"__main__\":\n",
    "    user_input = input(\"Enter the folder names, separated by commas (leave blank for current directory): \")\n",
    "    if user_input.strip() == \"\":\n",
    "        # Default to the current directory if no input is given\n",
    "        selected_folders = [os.getcwd()]\n",
    "    else:\n",
    "        selected_folders = user_input.split(',')\n",
    "        selected_folders = [folder.strip() for folder in selected_folders]\n",
    "\n",
    "    output_file = \"combined_java_files.txt\"\n",
    "    combine_java_files(selected_folders, output_file)\n",
    "    print(f\"Java files combined into {output_file}.\")\n"
   ]
  },
  {
   "cell_type": "code",
   "execution_count": 2,
   "metadata": {},
   "outputs": [
    {
     "name": "stdout",
     "output_type": "stream",
     "text": [
      "d:\\Users\\Mark\\Documents\\GitHub\\react-projects\\Palit-A-Nearby-Vendor-Commerce-App\\Springboot\\palit\\src\\main\\java\\com\\nearbyvendor\n"
     ]
    }
   ],
   "source": [
    "import os\n",
    "print(os.getcwd())\n"
   ]
  }
 ],
 "metadata": {
  "kernelspec": {
   "display_name": "base",
   "language": "python",
   "name": "python3"
  },
  "language_info": {
   "codemirror_mode": {
    "name": "ipython",
    "version": 3
   },
   "file_extension": ".py",
   "mimetype": "text/x-python",
   "name": "python",
   "nbconvert_exporter": "python",
   "pygments_lexer": "ipython3",
   "version": "3.11.5"
  }
 },
 "nbformat": 4,
 "nbformat_minor": 2
}
