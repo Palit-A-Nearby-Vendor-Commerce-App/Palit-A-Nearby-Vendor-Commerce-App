{
 "cells": [
  {
   "cell_type": "code",
   "execution_count": 1,
   "metadata": {},
   "outputs": [
    {
     "ename": "FileNotFoundError",
     "evalue": "[WinError 3] The system cannot find the path specified: ''",
     "output_type": "error",
     "traceback": [
      "\u001b[1;31m---------------------------------------------------------------------------\u001b[0m",
      "\u001b[1;31mFileNotFoundError\u001b[0m                         Traceback (most recent call last)",
      "\u001b[1;32md:\\Users\\Mark\\Documents\\GitHub\\react-projects\\Palit-A-Nearby-Vendor-Commerce-App\\Springboot\\palit\\src\\main\\java\\com\\nearbyvendor\\palit\\combine.ipynb Cell 1\u001b[0m line \u001b[0;36m1\n\u001b[0;32m     <a href='vscode-notebook-cell:/d%3A/Users/Mark/Documents/GitHub/react-projects/Palit-A-Nearby-Vendor-Commerce-App/Springboot/palit/src/main/java/com/nearbyvendor/palit/combine.ipynb#W0sZmlsZQ%3D%3D?line=14'>15</a>\u001b[0m selected_folders \u001b[39m=\u001b[39m [folder\u001b[39m.\u001b[39mstrip() \u001b[39mfor\u001b[39;00m folder \u001b[39min\u001b[39;00m selected_folders]\n\u001b[0;32m     <a href='vscode-notebook-cell:/d%3A/Users/Mark/Documents/GitHub/react-projects/Palit-A-Nearby-Vendor-Commerce-App/Springboot/palit/src/main/java/com/nearbyvendor/palit/combine.ipynb#W0sZmlsZQ%3D%3D?line=15'>16</a>\u001b[0m output_file \u001b[39m=\u001b[39m \u001b[39m\"\u001b[39m\u001b[39mcombined_java_files.txt\u001b[39m\u001b[39m\"\u001b[39m\n\u001b[1;32m---> <a href='vscode-notebook-cell:/d%3A/Users/Mark/Documents/GitHub/react-projects/Palit-A-Nearby-Vendor-Commerce-App/Springboot/palit/src/main/java/com/nearbyvendor/palit/combine.ipynb#W0sZmlsZQ%3D%3D?line=17'>18</a>\u001b[0m combine_java_files(selected_folders, output_file)\n\u001b[0;32m     <a href='vscode-notebook-cell:/d%3A/Users/Mark/Documents/GitHub/react-projects/Palit-A-Nearby-Vendor-Commerce-App/Springboot/palit/src/main/java/com/nearbyvendor/palit/combine.ipynb#W0sZmlsZQ%3D%3D?line=18'>19</a>\u001b[0m \u001b[39mprint\u001b[39m(\u001b[39mf\u001b[39m\u001b[39m\"\u001b[39m\u001b[39mJava files combined into \u001b[39m\u001b[39m{\u001b[39;00moutput_file\u001b[39m}\u001b[39;00m\u001b[39m.\u001b[39m\u001b[39m\"\u001b[39m)\n",
      "\u001b[1;32md:\\Users\\Mark\\Documents\\GitHub\\react-projects\\Palit-A-Nearby-Vendor-Commerce-App\\Springboot\\palit\\src\\main\\java\\com\\nearbyvendor\\palit\\combine.ipynb Cell 1\u001b[0m line \u001b[0;36m6\n\u001b[0;32m      <a href='vscode-notebook-cell:/d%3A/Users/Mark/Documents/GitHub/react-projects/Palit-A-Nearby-Vendor-Commerce-App/Springboot/palit/src/main/java/com/nearbyvendor/palit/combine.ipynb#W0sZmlsZQ%3D%3D?line=3'>4</a>\u001b[0m \u001b[39mwith\u001b[39;00m \u001b[39mopen\u001b[39m(output_file, \u001b[39m'\u001b[39m\u001b[39mw\u001b[39m\u001b[39m'\u001b[39m) \u001b[39mas\u001b[39;00m outfile:\n\u001b[0;32m      <a href='vscode-notebook-cell:/d%3A/Users/Mark/Documents/GitHub/react-projects/Palit-A-Nearby-Vendor-Commerce-App/Springboot/palit/src/main/java/com/nearbyvendor/palit/combine.ipynb#W0sZmlsZQ%3D%3D?line=4'>5</a>\u001b[0m     \u001b[39mfor\u001b[39;00m folder \u001b[39min\u001b[39;00m folders:\n\u001b[1;32m----> <a href='vscode-notebook-cell:/d%3A/Users/Mark/Documents/GitHub/react-projects/Palit-A-Nearby-Vendor-Commerce-App/Springboot/palit/src/main/java/com/nearbyvendor/palit/combine.ipynb#W0sZmlsZQ%3D%3D?line=5'>6</a>\u001b[0m         \u001b[39mfor\u001b[39;00m filename \u001b[39min\u001b[39;00m os\u001b[39m.\u001b[39mlistdir(folder):\n\u001b[0;32m      <a href='vscode-notebook-cell:/d%3A/Users/Mark/Documents/GitHub/react-projects/Palit-A-Nearby-Vendor-Commerce-App/Springboot/palit/src/main/java/com/nearbyvendor/palit/combine.ipynb#W0sZmlsZQ%3D%3D?line=6'>7</a>\u001b[0m             \u001b[39mif\u001b[39;00m filename\u001b[39m.\u001b[39mendswith(\u001b[39m'\u001b[39m\u001b[39m.java\u001b[39m\u001b[39m'\u001b[39m):\n\u001b[0;32m      <a href='vscode-notebook-cell:/d%3A/Users/Mark/Documents/GitHub/react-projects/Palit-A-Nearby-Vendor-Commerce-App/Springboot/palit/src/main/java/com/nearbyvendor/palit/combine.ipynb#W0sZmlsZQ%3D%3D?line=7'>8</a>\u001b[0m                 outfile\u001b[39m.\u001b[39mwrite(\u001b[39mf\u001b[39m\u001b[39m'\u001b[39m\u001b[39m\\n\u001b[39;00m\u001b[39m{\u001b[39;00mfilename\u001b[39m}\u001b[39;00m\u001b[39m:\u001b[39m\u001b[39m\\n\u001b[39;00m\u001b[39m```\u001b[39m\u001b[39m\\n\u001b[39;00m\u001b[39m'\u001b[39m)\n",
      "\u001b[1;31mFileNotFoundError\u001b[0m: [WinError 3] The system cannot find the path specified: ''"
     ]
    }
   ],
   "source": [
    "import os\n",
    "\n",
    "def combine_java_files(folders, output_file):\n",
    "    with open(output_file, 'w') as outfile:\n",
    "        for folder in folders:\n",
    "            for filename in os.listdir(folder):\n",
    "                if filename.endswith('.java'):\n",
    "                    outfile.write(f'\\n{filename}:\\n```\\n')\n",
    "                    with open(os.path.join(folder, filename), 'r') as infile:\n",
    "                        outfile.write(infile.read())\n",
    "                    outfile.write('\\n```\\n')\n",
    "\n",
    "if __name__ == \"__main__\":\n",
    "    selected_folders = input(\"Enter the folder names, separated by commas: \").split(',')\n",
    "    selected_folders = [folder.strip() for folder in selected_folders]\n",
    "    output_file = \"combined_java_files.txt\"\n",
    "\n",
    "    combine_java_files(selected_folders, output_file)\n",
    "    print(f\"Java files combined into {output_file}.\")\n"
   ]
  },
  {
   "cell_type": "code",
   "execution_count": 2,
   "metadata": {},
   "outputs": [
    {
     "name": "stdout",
     "output_type": "stream",
     "text": [
      "d:\\Users\\Mark\\Documents\\GitHub\\react-projects\\Palit-A-Nearby-Vendor-Commerce-App\\Springboot\\palit\\src\\main\\java\\com\\nearbyvendor\n"
     ]
    }
   ],
   "source": [
    "import os\n",
    "print(os.getcwd())\n"
   ]
  }
 ],
 "metadata": {
  "kernelspec": {
   "display_name": "base",
   "language": "python",
   "name": "python3"
  },
  "language_info": {
   "codemirror_mode": {
    "name": "ipython",
    "version": 3
   },
   "file_extension": ".py",
   "mimetype": "text/x-python",
   "name": "python",
   "nbconvert_exporter": "python",
   "pygments_lexer": "ipython3",
   "version": "3.11.5"
  }
 },
 "nbformat": 4,
 "nbformat_minor": 2
}
